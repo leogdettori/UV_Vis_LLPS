{
 "cells": [
  {
   "cell_type": "code",
   "execution_count": null,
   "metadata": {},
   "outputs": [],
   "source": [
    "\"\"\"\n",
    "Created by Leo Dettori and Mohamed Mohamed on 2021.07.13.\n",
    "\"\"\"\n",
    "\n",
    "def single_temp_program_plotting(temperature_program, output):\n",
    "    \n",
    "    import matplotlib.pyplot as plt\n",
    "\n",
    "    #Starts to loop trhough wavelengths\n",
    "    for i1 in experiment:\n",
    "\n",
    "        plt.gcf().clear()\n",
    "        fig = plt.figure(figsize =(15, 10))\n",
    "        ax = fig.add_subplot(111)\n",
    "        \n",
    "        #Starts to loop trhough samples\n",
    "        for i2 in experiment[str(i1)]:\n",
    "            \n",
    "            #Starts to loop trhough temperature programs (e.g.: Heating and Cooling)\n",
    "            for i3 in experiment[str(i1)][str(i2)]:\n",
    "                \n",
    "                #Selects a single temperature program to work with\n",
    "                if i3 == temperature_program:\n",
    "                    x_axis = experiment[str(i1)][str(i2)][str(i3)][\"Temp\"]   #Picks the current sample's temperature as the x axis\n",
    "                    y_axis = experiment[str(i1)][str(i2)][str(i3)][\"Abs\"]   #Picks the current sample's scattering as the y axis\n",
    "                    run_label = str(i2)   #Picks the current sample's name as the label\n",
    "                    run_label = run_label.strip(\"[]''\")\n",
    "\n",
    "                    #Plotting the data of current run/sample\n",
    "                    ax.plot(x_axis, y_axis, label=run_label)\n",
    "\n",
    "\n",
    "\n",
    "        #plt.show()\n",
    "\n",
    "\n",
    "        handles, labels = ax.get_legend_handles_labels()\n",
    "        lgd = ax.legend(handles, labels, loc='upper center', bbox_to_anchor=(0.5,-0.1), fontsize=15)\n",
    "        text = ax.text(-0.2,1.05, '', transform=ax.transAxes)\n",
    "        ax.set_xlabel('Temperature', fontsize=15)\n",
    "        ax.set_ylabel('Scattering', fontsize=15)\n",
    "        ax.set_title(str(i1).strip(\"[]''\") + str(' nm - ') +str(temperature_program), fontsize=20)\n",
    "        ax.grid('on')\n",
    "        fig.savefig((output+\"/\"+str(temperature_program)+\"_\"+str(i1)).strip(\"[]''\")+\".png\", bbox_extra_artists=(lgd,text), bbox_inches='tight')\n",
    "        plt.gcf().clear()    \n",
    "\n",
    "\n",
    "\n",
    "            #print(\"\\n\")\n",
    "    print(\"Plots were succesfully created!\")\n",
    "    "
   ]
  }
 ],
 "metadata": {
  "kernelspec": {
   "display_name": "Python 3",
   "language": "python",
   "name": "python3"
  },
  "language_info": {
   "codemirror_mode": {
    "name": "ipython",
    "version": 3
   },
   "file_extension": ".py",
   "mimetype": "text/x-python",
   "name": "python",
   "nbconvert_exporter": "python",
   "pygments_lexer": "ipython3",
   "version": "3.8.5"
  }
 },
 "nbformat": 4,
 "nbformat_minor": 4
}
