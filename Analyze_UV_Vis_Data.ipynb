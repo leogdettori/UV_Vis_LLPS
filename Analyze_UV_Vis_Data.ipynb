{
 "cells": [
  {
   "cell_type": "code",
   "execution_count": 1,
   "metadata": {},
   "outputs": [
    {
     "name": "stdout",
     "output_type": "stream",
     "text": [
      "Loading data...\n",
      "\n",
      "\n",
      "Wavelengths:\n",
      "['260.00', '280.00', '300.00', '320.00', '340.00', '400.00', '500.00', '600.00']\n",
      "\n",
      "\n",
      "Samples:\n",
      "['Buffer', 'FMRP_FL_I304N_High_R_Loops', 'FMRP_FL_I304N_Medium_R_Loops', 'FMRP_FL_I304N_Low_R_Loops', 'R_Loops_High', 'FMRP_FL_I304N']\n",
      "\n",
      "\n",
      "Temeperature Programs:\n",
      "['Cooling', 'Heating']\n",
      "\n",
      "\n",
      "Done!\n",
      "\n",
      "\n",
      "# ===================================================== #\n",
      "\n",
      "\n",
      "Calculating parameters...\n",
      "\n",
      "\n",
      "\n",
      "Master folder to store results was successfully created in the output location!\n",
      "\n",
      "Parameters_Cubic_Spline folder to store results was successfully created in the output location!\n"
     ]
    },
    {
     "name": "stderr",
     "output_type": "stream",
     "text": [
      "C:\\Users\\leogd\\Anaconda3\\lib\\site-packages\\scipy\\interpolate\\_fitpack_impl.py:732: RuntimeWarning: The number of zeros exceeds mest\n",
      "  warnings.warn(RuntimeWarning(\"The number of zeros exceeds mest\"))\n",
      "C:\\Users\\leogd\\Anaconda3\\lib\\site-packages\\scipy\\interpolate\\_fitpack_impl.py:732: RuntimeWarning: The number of zeros exceeds mest\n",
      "  warnings.warn(RuntimeWarning(\"The number of zeros exceeds mest\"))\n",
      "C:\\Users\\leogd\\Anaconda3\\lib\\site-packages\\scipy\\interpolate\\_fitpack_impl.py:732: RuntimeWarning: The number of zeros exceeds mest\n",
      "  warnings.warn(RuntimeWarning(\"The number of zeros exceeds mest\"))\n",
      "C:\\Users\\leogd\\Anaconda3\\lib\\site-packages\\scipy\\interpolate\\_fitpack_impl.py:732: RuntimeWarning: The number of zeros exceeds mest\n",
      "  warnings.warn(RuntimeWarning(\"The number of zeros exceeds mest\"))\n"
     ]
    },
    {
     "name": "stdout",
     "output_type": "stream",
     "text": [
      "\n",
      "Parameters were successfully calculated! \n",
      "\n",
      "\n",
      "Done!\n",
      "\n",
      "\n",
      "# ===================================================== #\n",
      "\n",
      "\n",
      "Calculating parameters...\n",
      "\n",
      "\n",
      "\n",
      "Parameters_4PL folder to store results was successfully created in the output location!\n",
      "260.00_Buffer_Cooling\n",
      "6043.675294107044\n"
     ]
    },
    {
     "name": "stderr",
     "output_type": "stream",
     "text": [
      "C:\\Users\\leogd\\UV_Vis_parameters_as_function.py:272: RuntimeWarning: invalid value encountered in power\n",
      "  return d + ((a-d)/(1+(x/c)**b))\n"
     ]
    },
    {
     "name": "stdout",
     "output_type": "stream",
     "text": [
      "260.00_Buffer_Heating\n",
      "16.89065414839141\n"
     ]
    },
    {
     "name": "stderr",
     "output_type": "stream",
     "text": [
      "C:\\Users\\leogd\\UV_Vis_parameters_as_function.py:272: RuntimeWarning: invalid value encountered in power\n",
      "  return d + ((a-d)/(1+(x/c)**b))\n"
     ]
    },
    {
     "name": "stdout",
     "output_type": "stream",
     "text": [
      "260.00_FMRP_FL_I304N_High_R_Loops_Cooling\n",
      "27388.410108382537\n"
     ]
    },
    {
     "name": "stderr",
     "output_type": "stream",
     "text": [
      "C:\\Users\\leogd\\UV_Vis_parameters_as_function.py:272: RuntimeWarning: invalid value encountered in power\n",
      "  return d + ((a-d)/(1+(x/c)**b))\n"
     ]
    },
    {
     "name": "stdout",
     "output_type": "stream",
     "text": [
      "260.00_FMRP_FL_I304N_High_R_Loops_Heating\n",
      "31.392576674919248\n"
     ]
    },
    {
     "name": "stderr",
     "output_type": "stream",
     "text": [
      "C:\\Users\\leogd\\UV_Vis_parameters_as_function.py:272: RuntimeWarning: invalid value encountered in power\n",
      "  return d + ((a-d)/(1+(x/c)**b))\n"
     ]
    },
    {
     "name": "stdout",
     "output_type": "stream",
     "text": [
      "260.00_FMRP_FL_I304N_Medium_R_Loops_Cooling\n",
      "19.698232256940024\n"
     ]
    },
    {
     "name": "stderr",
     "output_type": "stream",
     "text": [
      "C:\\Users\\leogd\\UV_Vis_parameters_as_function.py:272: RuntimeWarning: invalid value encountered in power\n",
      "  return d + ((a-d)/(1+(x/c)**b))\n"
     ]
    },
    {
     "name": "stdout",
     "output_type": "stream",
     "text": [
      "260.00_FMRP_FL_I304N_Medium_R_Loops_Heating\n",
      "103.09241625127049\n"
     ]
    },
    {
     "name": "stderr",
     "output_type": "stream",
     "text": [
      "C:\\Users\\leogd\\UV_Vis_parameters_as_function.py:272: RuntimeWarning: invalid value encountered in power\n",
      "  return d + ((a-d)/(1+(x/c)**b))\n"
     ]
    },
    {
     "name": "stdout",
     "output_type": "stream",
     "text": [
      "260.00_FMRP_FL_I304N_Low_R_Loops_Cooling\n",
      "20.650255244570644\n"
     ]
    },
    {
     "name": "stderr",
     "output_type": "stream",
     "text": [
      "C:\\Users\\leogd\\UV_Vis_parameters_as_function.py:272: RuntimeWarning: invalid value encountered in power\n",
      "  return d + ((a-d)/(1+(x/c)**b))\n"
     ]
    },
    {
     "name": "stdout",
     "output_type": "stream",
     "text": [
      "260.00_FMRP_FL_I304N_Low_R_Loops_Heating\n",
      "57.68376053685434\n"
     ]
    },
    {
     "name": "stderr",
     "output_type": "stream",
     "text": [
      "C:\\Users\\leogd\\UV_Vis_parameters_as_function.py:272: RuntimeWarning: invalid value encountered in power\n",
      "  return d + ((a-d)/(1+(x/c)**b))\n"
     ]
    },
    {
     "name": "stdout",
     "output_type": "stream",
     "text": [
      "260.00_R_Loops_High_Cooling\n",
      "260.00_R_Loops_High_Heating\n",
      "1.2527705866634125\n"
     ]
    },
    {
     "name": "stderr",
     "output_type": "stream",
     "text": [
      "C:\\Users\\leogd\\UV_Vis_parameters_as_function.py:272: RuntimeWarning: invalid value encountered in power\n",
      "  return d + ((a-d)/(1+(x/c)**b))\n"
     ]
    },
    {
     "name": "stdout",
     "output_type": "stream",
     "text": [
      "260.00_FMRP_FL_I304N_Cooling\n",
      "21.013187643304757\n"
     ]
    },
    {
     "name": "stderr",
     "output_type": "stream",
     "text": [
      "C:\\Users\\leogd\\UV_Vis_parameters_as_function.py:272: RuntimeWarning: invalid value encountered in power\n",
      "  return d + ((a-d)/(1+(x/c)**b))\n"
     ]
    },
    {
     "name": "stdout",
     "output_type": "stream",
     "text": [
      "260.00_FMRP_FL_I304N_Heating\n",
      "62.183884326326265\n"
     ]
    },
    {
     "name": "stderr",
     "output_type": "stream",
     "text": [
      "C:\\Users\\leogd\\UV_Vis_parameters_as_function.py:272: RuntimeWarning: invalid value encountered in power\n",
      "  return d + ((a-d)/(1+(x/c)**b))\n"
     ]
    },
    {
     "name": "stdout",
     "output_type": "stream",
     "text": [
      "280.00_Buffer_Cooling\n",
      "6010.377699138588\n"
     ]
    },
    {
     "name": "stderr",
     "output_type": "stream",
     "text": [
      "C:\\Users\\leogd\\UV_Vis_parameters_as_function.py:272: RuntimeWarning: invalid value encountered in power\n",
      "  return d + ((a-d)/(1+(x/c)**b))\n"
     ]
    },
    {
     "name": "stdout",
     "output_type": "stream",
     "text": [
      "280.00_Buffer_Heating\n",
      "13.335014427887783\n"
     ]
    },
    {
     "name": "stderr",
     "output_type": "stream",
     "text": [
      "C:\\Users\\leogd\\UV_Vis_parameters_as_function.py:272: RuntimeWarning: invalid value encountered in power\n",
      "  return d + ((a-d)/(1+(x/c)**b))\n"
     ]
    },
    {
     "name": "stdout",
     "output_type": "stream",
     "text": [
      "280.00_FMRP_FL_I304N_High_R_Loops_Cooling\n",
      "14963.630221053163\n"
     ]
    },
    {
     "name": "stderr",
     "output_type": "stream",
     "text": [
      "C:\\Users\\leogd\\UV_Vis_parameters_as_function.py:272: RuntimeWarning: invalid value encountered in power\n",
      "  return d + ((a-d)/(1+(x/c)**b))\n"
     ]
    },
    {
     "name": "stdout",
     "output_type": "stream",
     "text": [
      "280.00_FMRP_FL_I304N_High_R_Loops_Heating\n",
      "31.14897242639327\n"
     ]
    },
    {
     "name": "stderr",
     "output_type": "stream",
     "text": [
      "C:\\Users\\leogd\\UV_Vis_parameters_as_function.py:272: RuntimeWarning: invalid value encountered in power\n",
      "  return d + ((a-d)/(1+(x/c)**b))\n"
     ]
    },
    {
     "name": "stdout",
     "output_type": "stream",
     "text": [
      "280.00_FMRP_FL_I304N_Medium_R_Loops_Cooling\n",
      "20.27700941807045\n"
     ]
    },
    {
     "name": "stderr",
     "output_type": "stream",
     "text": [
      "C:\\Users\\leogd\\UV_Vis_parameters_as_function.py:272: RuntimeWarning: invalid value encountered in power\n",
      "  return d + ((a-d)/(1+(x/c)**b))\n"
     ]
    },
    {
     "name": "stdout",
     "output_type": "stream",
     "text": [
      "280.00_FMRP_FL_I304N_Medium_R_Loops_Heating\n",
      "77.70851288467651\n"
     ]
    },
    {
     "name": "stderr",
     "output_type": "stream",
     "text": [
      "C:\\Users\\leogd\\UV_Vis_parameters_as_function.py:272: RuntimeWarning: invalid value encountered in power\n",
      "  return d + ((a-d)/(1+(x/c)**b))\n"
     ]
    },
    {
     "name": "stdout",
     "output_type": "stream",
     "text": [
      "280.00_FMRP_FL_I304N_Low_R_Loops_Cooling\n",
      "7.350366770644178\n"
     ]
    },
    {
     "name": "stderr",
     "output_type": "stream",
     "text": [
      "C:\\Users\\leogd\\UV_Vis_parameters_as_function.py:272: RuntimeWarning: invalid value encountered in power\n",
      "  return d + ((a-d)/(1+(x/c)**b))\n"
     ]
    },
    {
     "name": "stdout",
     "output_type": "stream",
     "text": [
      "280.00_FMRP_FL_I304N_Low_R_Loops_Heating\n",
      "50.10601563908274\n"
     ]
    },
    {
     "name": "stderr",
     "output_type": "stream",
     "text": [
      "C:\\Users\\leogd\\UV_Vis_parameters_as_function.py:272: RuntimeWarning: invalid value encountered in power\n",
      "  return d + ((a-d)/(1+(x/c)**b))\n"
     ]
    },
    {
     "name": "stdout",
     "output_type": "stream",
     "text": [
      "280.00_R_Loops_High_Cooling\n",
      "280.00_R_Loops_High_Heating\n",
      "17.92231529196183\n"
     ]
    },
    {
     "name": "stderr",
     "output_type": "stream",
     "text": [
      "C:\\Users\\leogd\\UV_Vis_parameters_as_function.py:272: RuntimeWarning: invalid value encountered in power\n",
      "  return d + ((a-d)/(1+(x/c)**b))\n"
     ]
    },
    {
     "name": "stdout",
     "output_type": "stream",
     "text": [
      "280.00_FMRP_FL_I304N_Cooling\n",
      "0.9717046379990114\n",
      "280.00_FMRP_FL_I304N_Heating\n",
      "53.91517747729206\n"
     ]
    },
    {
     "name": "stderr",
     "output_type": "stream",
     "text": [
      "C:\\Users\\leogd\\UV_Vis_parameters_as_function.py:272: RuntimeWarning: invalid value encountered in power\n",
      "  return d + ((a-d)/(1+(x/c)**b))\n"
     ]
    },
    {
     "name": "stdout",
     "output_type": "stream",
     "text": [
      "300.00_Buffer_Cooling\n",
      "300.00_Buffer_Heating\n",
      "9.333141125908927\n"
     ]
    },
    {
     "name": "stderr",
     "output_type": "stream",
     "text": [
      "C:\\Users\\leogd\\UV_Vis_parameters_as_function.py:272: RuntimeWarning: invalid value encountered in power\n",
      "  return d + ((a-d)/(1+(x/c)**b))\n"
     ]
    },
    {
     "name": "stdout",
     "output_type": "stream",
     "text": [
      "300.00_FMRP_FL_I304N_High_R_Loops_Cooling\n",
      "16952.725473012055\n"
     ]
    },
    {
     "name": "stderr",
     "output_type": "stream",
     "text": [
      "C:\\Users\\leogd\\UV_Vis_parameters_as_function.py:272: RuntimeWarning: invalid value encountered in power\n",
      "  return d + ((a-d)/(1+(x/c)**b))\n"
     ]
    },
    {
     "name": "stdout",
     "output_type": "stream",
     "text": [
      "300.00_FMRP_FL_I304N_High_R_Loops_Heating\n",
      "31.200903350477603\n"
     ]
    },
    {
     "name": "stderr",
     "output_type": "stream",
     "text": [
      "C:\\Users\\leogd\\UV_Vis_parameters_as_function.py:272: RuntimeWarning: invalid value encountered in power\n",
      "  return d + ((a-d)/(1+(x/c)**b))\n"
     ]
    },
    {
     "name": "stdout",
     "output_type": "stream",
     "text": [
      "300.00_FMRP_FL_I304N_Medium_R_Loops_Cooling\n",
      "21.082012062474572\n"
     ]
    },
    {
     "name": "stderr",
     "output_type": "stream",
     "text": [
      "C:\\Users\\leogd\\UV_Vis_parameters_as_function.py:272: RuntimeWarning: invalid value encountered in power\n",
      "  return d + ((a-d)/(1+(x/c)**b))\n"
     ]
    },
    {
     "name": "stdout",
     "output_type": "stream",
     "text": [
      "300.00_FMRP_FL_I304N_Medium_R_Loops_Heating\n",
      "62.633477575385875\n"
     ]
    },
    {
     "name": "stderr",
     "output_type": "stream",
     "text": [
      "C:\\Users\\leogd\\UV_Vis_parameters_as_function.py:272: RuntimeWarning: invalid value encountered in power\n",
      "  return d + ((a-d)/(1+(x/c)**b))\n"
     ]
    },
    {
     "name": "stdout",
     "output_type": "stream",
     "text": [
      "300.00_FMRP_FL_I304N_Low_R_Loops_Cooling\n",
      "7.066245877048422\n"
     ]
    },
    {
     "name": "stderr",
     "output_type": "stream",
     "text": [
      "C:\\Users\\leogd\\UV_Vis_parameters_as_function.py:272: RuntimeWarning: invalid value encountered in power\n",
      "  return d + ((a-d)/(1+(x/c)**b))\n"
     ]
    },
    {
     "name": "stdout",
     "output_type": "stream",
     "text": [
      "300.00_FMRP_FL_I304N_Low_R_Loops_Heating\n",
      "52.599237303346214\n"
     ]
    },
    {
     "name": "stderr",
     "output_type": "stream",
     "text": [
      "C:\\Users\\leogd\\UV_Vis_parameters_as_function.py:272: RuntimeWarning: invalid value encountered in power\n",
      "  return d + ((a-d)/(1+(x/c)**b))\n"
     ]
    },
    {
     "name": "stdout",
     "output_type": "stream",
     "text": [
      "300.00_R_Loops_High_Cooling\n",
      "7994.983898877248\n"
     ]
    },
    {
     "name": "stderr",
     "output_type": "stream",
     "text": [
      "C:\\Users\\leogd\\UV_Vis_parameters_as_function.py:272: RuntimeWarning: invalid value encountered in power\n",
      "  return d + ((a-d)/(1+(x/c)**b))\n"
     ]
    },
    {
     "name": "stdout",
     "output_type": "stream",
     "text": [
      "300.00_R_Loops_High_Heating\n",
      "27.142441497740084\n"
     ]
    },
    {
     "name": "stderr",
     "output_type": "stream",
     "text": [
      "C:\\Users\\leogd\\UV_Vis_parameters_as_function.py:272: RuntimeWarning: invalid value encountered in power\n",
      "  return d + ((a-d)/(1+(x/c)**b))\n"
     ]
    },
    {
     "name": "stdout",
     "output_type": "stream",
     "text": [
      "300.00_FMRP_FL_I304N_Cooling\n",
      "0.9730290868980219\n"
     ]
    },
    {
     "name": "stderr",
     "output_type": "stream",
     "text": [
      "C:\\Users\\leogd\\UV_Vis_parameters_as_function.py:272: RuntimeWarning: invalid value encountered in power\n",
      "  return d + ((a-d)/(1+(x/c)**b))\n"
     ]
    },
    {
     "name": "stdout",
     "output_type": "stream",
     "text": [
      "300.00_FMRP_FL_I304N_Heating\n",
      "56.76555433019506\n"
     ]
    },
    {
     "name": "stderr",
     "output_type": "stream",
     "text": [
      "C:\\Users\\leogd\\UV_Vis_parameters_as_function.py:272: RuntimeWarning: invalid value encountered in power\n",
      "  return d + ((a-d)/(1+(x/c)**b))\n"
     ]
    },
    {
     "name": "stdout",
     "output_type": "stream",
     "text": [
      "320.00_Buffer_Cooling\n",
      "320.00_Buffer_Heating\n",
      "7.62919587168062\n"
     ]
    },
    {
     "name": "stderr",
     "output_type": "stream",
     "text": [
      "C:\\Users\\leogd\\UV_Vis_parameters_as_function.py:272: RuntimeWarning: invalid value encountered in power\n",
      "  return d + ((a-d)/(1+(x/c)**b))\n"
     ]
    },
    {
     "name": "stdout",
     "output_type": "stream",
     "text": [
      "320.00_FMRP_FL_I304N_High_R_Loops_Cooling\n",
      "18981.1067198605\n"
     ]
    },
    {
     "name": "stderr",
     "output_type": "stream",
     "text": [
      "C:\\Users\\leogd\\UV_Vis_parameters_as_function.py:272: RuntimeWarning: invalid value encountered in power\n",
      "  return d + ((a-d)/(1+(x/c)**b))\n"
     ]
    },
    {
     "name": "stdout",
     "output_type": "stream",
     "text": [
      "320.00_FMRP_FL_I304N_High_R_Loops_Heating\n",
      "31.207794265418446\n"
     ]
    },
    {
     "name": "stderr",
     "output_type": "stream",
     "text": [
      "C:\\Users\\leogd\\UV_Vis_parameters_as_function.py:272: RuntimeWarning: invalid value encountered in power\n",
      "  return d + ((a-d)/(1+(x/c)**b))\n"
     ]
    },
    {
     "name": "stdout",
     "output_type": "stream",
     "text": [
      "320.00_FMRP_FL_I304N_Medium_R_Loops_Cooling\n",
      "21.273560034281253\n"
     ]
    },
    {
     "name": "stderr",
     "output_type": "stream",
     "text": [
      "C:\\Users\\leogd\\UV_Vis_parameters_as_function.py:272: RuntimeWarning: invalid value encountered in power\n",
      "  return d + ((a-d)/(1+(x/c)**b))\n"
     ]
    },
    {
     "name": "stdout",
     "output_type": "stream",
     "text": [
      "320.00_FMRP_FL_I304N_Medium_R_Loops_Heating\n",
      "60.83907243363306\n"
     ]
    },
    {
     "name": "stderr",
     "output_type": "stream",
     "text": [
      "C:\\Users\\leogd\\UV_Vis_parameters_as_function.py:272: RuntimeWarning: invalid value encountered in power\n",
      "  return d + ((a-d)/(1+(x/c)**b))\n"
     ]
    },
    {
     "name": "stdout",
     "output_type": "stream",
     "text": [
      "320.00_FMRP_FL_I304N_Low_R_Loops_Cooling\n",
      "22.11318859424135\n"
     ]
    },
    {
     "name": "stderr",
     "output_type": "stream",
     "text": [
      "C:\\Users\\leogd\\UV_Vis_parameters_as_function.py:272: RuntimeWarning: invalid value encountered in power\n",
      "  return d + ((a-d)/(1+(x/c)**b))\n"
     ]
    },
    {
     "name": "stdout",
     "output_type": "stream",
     "text": [
      "320.00_FMRP_FL_I304N_Low_R_Loops_Heating\n",
      "54.300053264762134\n"
     ]
    },
    {
     "name": "stderr",
     "output_type": "stream",
     "text": [
      "C:\\Users\\leogd\\UV_Vis_parameters_as_function.py:272: RuntimeWarning: invalid value encountered in power\n",
      "  return d + ((a-d)/(1+(x/c)**b))\n"
     ]
    },
    {
     "name": "stdout",
     "output_type": "stream",
     "text": [
      "320.00_R_Loops_High_Cooling\n",
      "9262.124004005635\n"
     ]
    },
    {
     "name": "stderr",
     "output_type": "stream",
     "text": [
      "C:\\Users\\leogd\\UV_Vis_parameters_as_function.py:272: RuntimeWarning: invalid value encountered in power\n",
      "  return d + ((a-d)/(1+(x/c)**b))\n"
     ]
    },
    {
     "name": "stdout",
     "output_type": "stream",
     "text": [
      "320.00_R_Loops_High_Heating\n",
      "26.984899799264323\n",
      "320.00_FMRP_FL_I304N_Cooling\n",
      "2.2757869979378054\n"
     ]
    },
    {
     "name": "stderr",
     "output_type": "stream",
     "text": [
      "C:\\Users\\leogd\\UV_Vis_parameters_as_function.py:272: RuntimeWarning: invalid value encountered in power\n",
      "  return d + ((a-d)/(1+(x/c)**b))\n"
     ]
    },
    {
     "name": "stdout",
     "output_type": "stream",
     "text": [
      "320.00_FMRP_FL_I304N_Heating\n",
      "58.72775034004629\n"
     ]
    },
    {
     "name": "stderr",
     "output_type": "stream",
     "text": [
      "C:\\Users\\leogd\\UV_Vis_parameters_as_function.py:272: RuntimeWarning: invalid value encountered in power\n",
      "  return d + ((a-d)/(1+(x/c)**b))\n"
     ]
    },
    {
     "name": "stdout",
     "output_type": "stream",
     "text": [
      "340.00_Buffer_Cooling\n",
      "6769.174160167896\n"
     ]
    },
    {
     "name": "stderr",
     "output_type": "stream",
     "text": [
      "C:\\Users\\leogd\\UV_Vis_parameters_as_function.py:272: RuntimeWarning: invalid value encountered in power\n",
      "  return d + ((a-d)/(1+(x/c)**b))\n"
     ]
    },
    {
     "name": "stdout",
     "output_type": "stream",
     "text": [
      "340.00_Buffer_Heating\n",
      "6.618210290453\n",
      "340.00_FMRP_FL_I304N_High_R_Loops_Cooling\n",
      "21879.037361537696\n"
     ]
    },
    {
     "name": "stderr",
     "output_type": "stream",
     "text": [
      "C:\\Users\\leogd\\UV_Vis_parameters_as_function.py:272: RuntimeWarning: invalid value encountered in power\n",
      "  return d + ((a-d)/(1+(x/c)**b))\n"
     ]
    },
    {
     "name": "stdout",
     "output_type": "stream",
     "text": [
      "340.00_FMRP_FL_I304N_High_R_Loops_Heating\n",
      "31.18414777505271\n"
     ]
    },
    {
     "name": "stderr",
     "output_type": "stream",
     "text": [
      "C:\\Users\\leogd\\UV_Vis_parameters_as_function.py:272: RuntimeWarning: invalid value encountered in power\n",
      "  return d + ((a-d)/(1+(x/c)**b))\n"
     ]
    },
    {
     "name": "stdout",
     "output_type": "stream",
     "text": [
      "340.00_FMRP_FL_I304N_Medium_R_Loops_Cooling\n",
      "21.371351580997263\n"
     ]
    },
    {
     "name": "stderr",
     "output_type": "stream",
     "text": [
      "C:\\Users\\leogd\\UV_Vis_parameters_as_function.py:272: RuntimeWarning: invalid value encountered in power\n",
      "  return d + ((a-d)/(1+(x/c)**b))\n"
     ]
    },
    {
     "name": "stdout",
     "output_type": "stream",
     "text": [
      "340.00_FMRP_FL_I304N_Medium_R_Loops_Heating\n",
      "60.3480437662019\n"
     ]
    },
    {
     "name": "stderr",
     "output_type": "stream",
     "text": [
      "C:\\Users\\leogd\\UV_Vis_parameters_as_function.py:272: RuntimeWarning: invalid value encountered in power\n",
      "  return d + ((a-d)/(1+(x/c)**b))\n"
     ]
    },
    {
     "name": "stdout",
     "output_type": "stream",
     "text": [
      "340.00_FMRP_FL_I304N_Low_R_Loops_Cooling\n",
      "7.027198293357576\n"
     ]
    },
    {
     "name": "stderr",
     "output_type": "stream",
     "text": [
      "C:\\Users\\leogd\\UV_Vis_parameters_as_function.py:272: RuntimeWarning: invalid value encountered in power\n",
      "  return d + ((a-d)/(1+(x/c)**b))\n"
     ]
    },
    {
     "name": "stdout",
     "output_type": "stream",
     "text": [
      "340.00_FMRP_FL_I304N_Low_R_Loops_Heating\n",
      "54.098748703915135\n"
     ]
    },
    {
     "name": "stderr",
     "output_type": "stream",
     "text": [
      "C:\\Users\\leogd\\UV_Vis_parameters_as_function.py:272: RuntimeWarning: invalid value encountered in power\n",
      "  return d + ((a-d)/(1+(x/c)**b))\n"
     ]
    },
    {
     "name": "stdout",
     "output_type": "stream",
     "text": [
      "340.00_R_Loops_High_Cooling\n",
      "10498.583818474257\n"
     ]
    },
    {
     "name": "stderr",
     "output_type": "stream",
     "text": [
      "C:\\Users\\leogd\\UV_Vis_parameters_as_function.py:272: RuntimeWarning: invalid value encountered in power\n",
      "  return d + ((a-d)/(1+(x/c)**b))\n"
     ]
    },
    {
     "name": "stdout",
     "output_type": "stream",
     "text": [
      "340.00_R_Loops_High_Heating\n",
      "26.994046301699115\n",
      "340.00_FMRP_FL_I304N_Cooling\n",
      "22.51926263266174\n"
     ]
    },
    {
     "name": "stderr",
     "output_type": "stream",
     "text": [
      "C:\\Users\\leogd\\UV_Vis_parameters_as_function.py:272: RuntimeWarning: invalid value encountered in power\n",
      "  return d + ((a-d)/(1+(x/c)**b))\n"
     ]
    },
    {
     "name": "stdout",
     "output_type": "stream",
     "text": [
      "340.00_FMRP_FL_I304N_Heating\n",
      "58.19103993483392\n"
     ]
    },
    {
     "name": "stderr",
     "output_type": "stream",
     "text": [
      "C:\\Users\\leogd\\UV_Vis_parameters_as_function.py:272: RuntimeWarning: invalid value encountered in power\n",
      "  return d + ((a-d)/(1+(x/c)**b))\n"
     ]
    },
    {
     "name": "stdout",
     "output_type": "stream",
     "text": [
      "400.00_Buffer_Cooling\n",
      "400.00_Buffer_Heating\n",
      "4.687493613862919\n"
     ]
    },
    {
     "name": "stderr",
     "output_type": "stream",
     "text": [
      "C:\\Users\\leogd\\UV_Vis_parameters_as_function.py:272: RuntimeWarning: invalid value encountered in power\n",
      "  return d + ((a-d)/(1+(x/c)**b))\n"
     ]
    },
    {
     "name": "stdout",
     "output_type": "stream",
     "text": [
      "400.00_FMRP_FL_I304N_High_R_Loops_Cooling\n",
      "22530.0213045652\n"
     ]
    },
    {
     "name": "stderr",
     "output_type": "stream",
     "text": [
      "C:\\Users\\leogd\\UV_Vis_parameters_as_function.py:272: RuntimeWarning: invalid value encountered in power\n",
      "  return d + ((a-d)/(1+(x/c)**b))\n"
     ]
    },
    {
     "name": "stdout",
     "output_type": "stream",
     "text": [
      "400.00_FMRP_FL_I304N_High_R_Loops_Heating\n",
      "31.13062617170176\n"
     ]
    },
    {
     "name": "stderr",
     "output_type": "stream",
     "text": [
      "C:\\Users\\leogd\\UV_Vis_parameters_as_function.py:272: RuntimeWarning: invalid value encountered in power\n",
      "  return d + ((a-d)/(1+(x/c)**b))\n"
     ]
    },
    {
     "name": "stdout",
     "output_type": "stream",
     "text": [
      "400.00_FMRP_FL_I304N_Medium_R_Loops_Cooling\n",
      "21.48725971387575\n"
     ]
    },
    {
     "name": "stderr",
     "output_type": "stream",
     "text": [
      "C:\\Users\\leogd\\UV_Vis_parameters_as_function.py:272: RuntimeWarning: invalid value encountered in power\n",
      "  return d + ((a-d)/(1+(x/c)**b))\n"
     ]
    },
    {
     "name": "stdout",
     "output_type": "stream",
     "text": [
      "400.00_FMRP_FL_I304N_Medium_R_Loops_Heating\n",
      "60.610748695564425\n"
     ]
    },
    {
     "name": "stderr",
     "output_type": "stream",
     "text": [
      "C:\\Users\\leogd\\UV_Vis_parameters_as_function.py:272: RuntimeWarning: invalid value encountered in power\n",
      "  return d + ((a-d)/(1+(x/c)**b))\n"
     ]
    },
    {
     "name": "stdout",
     "output_type": "stream",
     "text": [
      "400.00_FMRP_FL_I304N_Low_R_Loops_Cooling\n",
      "22.66610696079556\n"
     ]
    },
    {
     "name": "stderr",
     "output_type": "stream",
     "text": [
      "C:\\Users\\leogd\\UV_Vis_parameters_as_function.py:272: RuntimeWarning: invalid value encountered in power\n",
      "  return d + ((a-d)/(1+(x/c)**b))\n"
     ]
    },
    {
     "name": "stdout",
     "output_type": "stream",
     "text": [
      "400.00_FMRP_FL_I304N_Low_R_Loops_Heating\n",
      "54.27504159411698\n"
     ]
    },
    {
     "name": "stderr",
     "output_type": "stream",
     "text": [
      "C:\\Users\\leogd\\UV_Vis_parameters_as_function.py:272: RuntimeWarning: invalid value encountered in power\n",
      "  return d + ((a-d)/(1+(x/c)**b))\n"
     ]
    },
    {
     "name": "stdout",
     "output_type": "stream",
     "text": [
      "400.00_R_Loops_High_Cooling\n",
      "400.00_R_Loops_High_Heating\n",
      "27.008596903542458\n"
     ]
    },
    {
     "name": "stderr",
     "output_type": "stream",
     "text": [
      "C:\\Users\\leogd\\UV_Vis_parameters_as_function.py:272: RuntimeWarning: invalid value encountered in power\n",
      "  return d + ((a-d)/(1+(x/c)**b))\n"
     ]
    },
    {
     "name": "stdout",
     "output_type": "stream",
     "text": [
      "400.00_FMRP_FL_I304N_Cooling\n",
      "22.799882044407134\n"
     ]
    },
    {
     "name": "stderr",
     "output_type": "stream",
     "text": [
      "C:\\Users\\leogd\\UV_Vis_parameters_as_function.py:272: RuntimeWarning: invalid value encountered in power\n",
      "  return d + ((a-d)/(1+(x/c)**b))\n"
     ]
    },
    {
     "name": "stdout",
     "output_type": "stream",
     "text": [
      "400.00_FMRP_FL_I304N_Heating\n",
      "58.203775317449995\n"
     ]
    },
    {
     "name": "stderr",
     "output_type": "stream",
     "text": [
      "C:\\Users\\leogd\\UV_Vis_parameters_as_function.py:272: RuntimeWarning: invalid value encountered in power\n",
      "  return d + ((a-d)/(1+(x/c)**b))\n"
     ]
    },
    {
     "name": "stdout",
     "output_type": "stream",
     "text": [
      "500.00_Buffer_Cooling\n",
      "500.00_Buffer_Heating\n",
      "3.806162363375928\n"
     ]
    },
    {
     "name": "stderr",
     "output_type": "stream",
     "text": [
      "C:\\Users\\leogd\\UV_Vis_parameters_as_function.py:272: RuntimeWarning: invalid value encountered in power\n",
      "  return d + ((a-d)/(1+(x/c)**b))\n"
     ]
    },
    {
     "name": "stdout",
     "output_type": "stream",
     "text": [
      "500.00_FMRP_FL_I304N_High_R_Loops_Cooling\n",
      "24896.999269641667\n"
     ]
    },
    {
     "name": "stderr",
     "output_type": "stream",
     "text": [
      "C:\\Users\\leogd\\UV_Vis_parameters_as_function.py:272: RuntimeWarning: invalid value encountered in power\n",
      "  return d + ((a-d)/(1+(x/c)**b))\n"
     ]
    },
    {
     "name": "stdout",
     "output_type": "stream",
     "text": [
      "500.00_FMRP_FL_I304N_High_R_Loops_Heating\n",
      "31.104769825354545\n"
     ]
    },
    {
     "name": "stderr",
     "output_type": "stream",
     "text": [
      "C:\\Users\\leogd\\UV_Vis_parameters_as_function.py:272: RuntimeWarning: invalid value encountered in power\n",
      "  return d + ((a-d)/(1+(x/c)**b))\n"
     ]
    },
    {
     "name": "stdout",
     "output_type": "stream",
     "text": [
      "500.00_FMRP_FL_I304N_Medium_R_Loops_Cooling\n",
      "21.691696628266744\n"
     ]
    },
    {
     "name": "stderr",
     "output_type": "stream",
     "text": [
      "C:\\Users\\leogd\\UV_Vis_parameters_as_function.py:272: RuntimeWarning: invalid value encountered in power\n",
      "  return d + ((a-d)/(1+(x/c)**b))\n"
     ]
    },
    {
     "name": "stdout",
     "output_type": "stream",
     "text": [
      "500.00_FMRP_FL_I304N_Medium_R_Loops_Heating\n",
      "59.72568444570245\n"
     ]
    },
    {
     "name": "stderr",
     "output_type": "stream",
     "text": [
      "C:\\Users\\leogd\\UV_Vis_parameters_as_function.py:272: RuntimeWarning: invalid value encountered in power\n",
      "  return d + ((a-d)/(1+(x/c)**b))\n"
     ]
    },
    {
     "name": "stdout",
     "output_type": "stream",
     "text": [
      "500.00_FMRP_FL_I304N_Low_R_Loops_Cooling\n",
      "23.005884453026557\n"
     ]
    },
    {
     "name": "stderr",
     "output_type": "stream",
     "text": [
      "C:\\Users\\leogd\\UV_Vis_parameters_as_function.py:272: RuntimeWarning: invalid value encountered in power\n",
      "  return d + ((a-d)/(1+(x/c)**b))\n"
     ]
    },
    {
     "name": "stdout",
     "output_type": "stream",
     "text": [
      "500.00_FMRP_FL_I304N_Low_R_Loops_Heating\n",
      "53.598077026041516\n"
     ]
    },
    {
     "name": "stderr",
     "output_type": "stream",
     "text": [
      "C:\\Users\\leogd\\UV_Vis_parameters_as_function.py:272: RuntimeWarning: invalid value encountered in power\n",
      "  return d + ((a-d)/(1+(x/c)**b))\n"
     ]
    },
    {
     "name": "stdout",
     "output_type": "stream",
     "text": [
      "500.00_R_Loops_High_Cooling\n",
      "5446.0395568118465\n"
     ]
    },
    {
     "name": "stderr",
     "output_type": "stream",
     "text": [
      "C:\\Users\\leogd\\UV_Vis_parameters_as_function.py:272: RuntimeWarning: invalid value encountered in power\n",
      "  return d + ((a-d)/(1+(x/c)**b))\n"
     ]
    },
    {
     "name": "stdout",
     "output_type": "stream",
     "text": [
      "500.00_R_Loops_High_Heating\n",
      "27.105474767788404\n",
      "500.00_FMRP_FL_I304N_Cooling\n",
      "23.049351118363212\n"
     ]
    },
    {
     "name": "stderr",
     "output_type": "stream",
     "text": [
      "C:\\Users\\leogd\\UV_Vis_parameters_as_function.py:272: RuntimeWarning: invalid value encountered in power\n",
      "  return d + ((a-d)/(1+(x/c)**b))\n"
     ]
    },
    {
     "name": "stdout",
     "output_type": "stream",
     "text": [
      "500.00_FMRP_FL_I304N_Heating\n",
      "56.71420792459581\n"
     ]
    },
    {
     "name": "stderr",
     "output_type": "stream",
     "text": [
      "C:\\Users\\leogd\\UV_Vis_parameters_as_function.py:272: RuntimeWarning: invalid value encountered in power\n",
      "  return d + ((a-d)/(1+(x/c)**b))\n"
     ]
    },
    {
     "name": "stdout",
     "output_type": "stream",
     "text": [
      "600.00_Buffer_Cooling\n",
      "600.00_Buffer_Heating\n",
      "3.921303314340977\n"
     ]
    },
    {
     "name": "stderr",
     "output_type": "stream",
     "text": [
      "C:\\Users\\leogd\\UV_Vis_parameters_as_function.py:272: RuntimeWarning: invalid value encountered in power\n",
      "  return d + ((a-d)/(1+(x/c)**b))\n"
     ]
    },
    {
     "name": "stdout",
     "output_type": "stream",
     "text": [
      "600.00_FMRP_FL_I304N_High_R_Loops_Cooling\n",
      "22882.17797880297\n"
     ]
    },
    {
     "name": "stderr",
     "output_type": "stream",
     "text": [
      "C:\\Users\\leogd\\UV_Vis_parameters_as_function.py:272: RuntimeWarning: invalid value encountered in power\n",
      "  return d + ((a-d)/(1+(x/c)**b))\n"
     ]
    },
    {
     "name": "stdout",
     "output_type": "stream",
     "text": [
      "600.00_FMRP_FL_I304N_High_R_Loops_Heating\n",
      "31.115757319978968\n"
     ]
    },
    {
     "name": "stderr",
     "output_type": "stream",
     "text": [
      "C:\\Users\\leogd\\UV_Vis_parameters_as_function.py:272: RuntimeWarning: invalid value encountered in power\n",
      "  return d + ((a-d)/(1+(x/c)**b))\n"
     ]
    },
    {
     "name": "stdout",
     "output_type": "stream",
     "text": [
      "600.00_FMRP_FL_I304N_Medium_R_Loops_Cooling\n",
      "21.8321710039025\n"
     ]
    },
    {
     "name": "stderr",
     "output_type": "stream",
     "text": [
      "C:\\Users\\leogd\\UV_Vis_parameters_as_function.py:272: RuntimeWarning: invalid value encountered in power\n",
      "  return d + ((a-d)/(1+(x/c)**b))\n"
     ]
    },
    {
     "name": "stdout",
     "output_type": "stream",
     "text": [
      "600.00_FMRP_FL_I304N_Medium_R_Loops_Heating\n",
      "57.59268623403918\n"
     ]
    },
    {
     "name": "stderr",
     "output_type": "stream",
     "text": [
      "C:\\Users\\leogd\\UV_Vis_parameters_as_function.py:272: RuntimeWarning: invalid value encountered in power\n",
      "  return d + ((a-d)/(1+(x/c)**b))\n"
     ]
    },
    {
     "name": "stdout",
     "output_type": "stream",
     "text": [
      "600.00_FMRP_FL_I304N_Low_R_Loops_Cooling\n",
      "23.225642019897197\n"
     ]
    },
    {
     "name": "stderr",
     "output_type": "stream",
     "text": [
      "C:\\Users\\leogd\\UV_Vis_parameters_as_function.py:272: RuntimeWarning: invalid value encountered in power\n",
      "  return d + ((a-d)/(1+(x/c)**b))\n"
     ]
    },
    {
     "name": "stdout",
     "output_type": "stream",
     "text": [
      "600.00_FMRP_FL_I304N_Low_R_Loops_Heating\n",
      "52.34525573233229\n"
     ]
    },
    {
     "name": "stderr",
     "output_type": "stream",
     "text": [
      "C:\\Users\\leogd\\UV_Vis_parameters_as_function.py:272: RuntimeWarning: invalid value encountered in power\n",
      "  return d + ((a-d)/(1+(x/c)**b))\n"
     ]
    },
    {
     "name": "stdout",
     "output_type": "stream",
     "text": [
      "600.00_R_Loops_High_Cooling\n",
      "9179.57471682088\n"
     ]
    },
    {
     "name": "stderr",
     "output_type": "stream",
     "text": [
      "C:\\Users\\leogd\\UV_Vis_parameters_as_function.py:272: RuntimeWarning: invalid value encountered in power\n",
      "  return d + ((a-d)/(1+(x/c)**b))\n"
     ]
    },
    {
     "name": "stdout",
     "output_type": "stream",
     "text": [
      "600.00_R_Loops_High_Heating\n",
      "27.3835791005269\n"
     ]
    },
    {
     "name": "stderr",
     "output_type": "stream",
     "text": [
      "C:\\Users\\leogd\\UV_Vis_parameters_as_function.py:272: RuntimeWarning: invalid value encountered in power\n",
      "  return d + ((a-d)/(1+(x/c)**b))\n"
     ]
    },
    {
     "name": "stdout",
     "output_type": "stream",
     "text": [
      "600.00_FMRP_FL_I304N_Cooling\n",
      "23.174277471668624\n"
     ]
    },
    {
     "name": "stderr",
     "output_type": "stream",
     "text": [
      "C:\\Users\\leogd\\UV_Vis_parameters_as_function.py:272: RuntimeWarning: invalid value encountered in power\n",
      "  return d + ((a-d)/(1+(x/c)**b))\n"
     ]
    },
    {
     "name": "stdout",
     "output_type": "stream",
     "text": [
      "600.00_FMRP_FL_I304N_Heating\n",
      "54.71180171802015\n"
     ]
    },
    {
     "name": "stderr",
     "output_type": "stream",
     "text": [
      "C:\\Users\\leogd\\UV_Vis_parameters_as_function.py:272: RuntimeWarning: invalid value encountered in power\n",
      "  return d + ((a-d)/(1+(x/c)**b))\n"
     ]
    },
    {
     "name": "stdout",
     "output_type": "stream",
     "text": [
      "\n",
      "Parameters were successfully calculated! \n",
      "\n",
      "\n",
      "Done!\n",
      "\n",
      "\n",
      "# ===================================================== #\n",
      "\n",
      "\n",
      "Calculating parameters...\n",
      "\n",
      "\n",
      "\n",
      "Parameters_5PL folder to store results was successfully created in the output location!\n",
      "260.00_Buffer_Cooling\n",
      "260.00_Buffer_Heating\n",
      "260.00_FMRP_FL_I304N_High_R_Loops_Cooling\n"
     ]
    },
    {
     "name": "stderr",
     "output_type": "stream",
     "text": [
      "C:\\Users\\leogd\\UV_Vis_parameters_as_function.py:585: RuntimeWarning: divide by zero encountered in true_divide\n",
      "  return d + ((a-d)/((1+(x/c)**b)**g))\n",
      "C:\\Users\\leogd\\UV_Vis_parameters_as_function.py:585: RuntimeWarning: invalid value encountered in power\n",
      "  return d + ((a-d)/((1+(x/c)**b)**g))\n"
     ]
    },
    {
     "name": "stdout",
     "output_type": "stream",
     "text": [
      "260.00_FMRP_FL_I304N_High_R_Loops_Heating\n"
     ]
    },
    {
     "name": "stderr",
     "output_type": "stream",
     "text": [
      "C:\\Users\\leogd\\UV_Vis_parameters_as_function.py:585: RuntimeWarning: invalid value encountered in power\n",
      "  return d + ((a-d)/((1+(x/c)**b)**g))\n"
     ]
    },
    {
     "name": "stdout",
     "output_type": "stream",
     "text": [
      "260.00_FMRP_FL_I304N_Medium_R_Loops_Cooling\n",
      "260.00_FMRP_FL_I304N_Medium_R_Loops_Heating\n",
      "260.00_FMRP_FL_I304N_Low_R_Loops_Cooling\n",
      "260.00_FMRP_FL_I304N_Low_R_Loops_Heating\n",
      "260.00_R_Loops_High_Cooling\n",
      "260.00_R_Loops_High_Heating\n",
      "260.00_FMRP_FL_I304N_Cooling\n"
     ]
    },
    {
     "name": "stderr",
     "output_type": "stream",
     "text": [
      "C:\\Users\\leogd\\UV_Vis_parameters_as_function.py:585: RuntimeWarning: invalid value encountered in power\n",
      "  return d + ((a-d)/((1+(x/c)**b)**g))\n",
      "C:\\Users\\leogd\\UV_Vis_parameters_as_function.py:585: RuntimeWarning: overflow encountered in power\n",
      "  return d + ((a-d)/((1+(x/c)**b)**g))\n",
      "C:\\Users\\leogd\\UV_Vis_parameters_as_function.py:585: RuntimeWarning: divide by zero encountered in true_divide\n",
      "  return d + ((a-d)/((1+(x/c)**b)**g))\n"
     ]
    },
    {
     "name": "stdout",
     "output_type": "stream",
     "text": [
      "260.00_FMRP_FL_I304N_Heating\n",
      "280.00_Buffer_Cooling\n",
      "280.00_Buffer_Heating\n",
      "280.00_FMRP_FL_I304N_High_R_Loops_Cooling\n",
      "280.00_FMRP_FL_I304N_High_R_Loops_Heating\n"
     ]
    },
    {
     "name": "stderr",
     "output_type": "stream",
     "text": [
      "C:\\Users\\leogd\\UV_Vis_parameters_as_function.py:585: RuntimeWarning: invalid value encountered in power\n",
      "  return d + ((a-d)/((1+(x/c)**b)**g))\n"
     ]
    },
    {
     "name": "stdout",
     "output_type": "stream",
     "text": [
      "280.00_FMRP_FL_I304N_Medium_R_Loops_Cooling\n",
      "280.00_FMRP_FL_I304N_Medium_R_Loops_Heating\n",
      "280.00_FMRP_FL_I304N_Low_R_Loops_Cooling\n",
      "280.00_FMRP_FL_I304N_Low_R_Loops_Heating\n",
      "280.00_R_Loops_High_Cooling\n",
      "280.00_R_Loops_High_Heating\n"
     ]
    },
    {
     "name": "stderr",
     "output_type": "stream",
     "text": [
      "C:\\Users\\leogd\\UV_Vis_parameters_as_function.py:585: RuntimeWarning: invalid value encountered in power\n",
      "  return d + ((a-d)/((1+(x/c)**b)**g))\n",
      "C:\\Users\\leogd\\UV_Vis_parameters_as_function.py:585: RuntimeWarning: overflow encountered in power\n",
      "  return d + ((a-d)/((1+(x/c)**b)**g))\n"
     ]
    },
    {
     "name": "stdout",
     "output_type": "stream",
     "text": [
      "280.00_FMRP_FL_I304N_Cooling\n",
      "280.00_FMRP_FL_I304N_Heating\n",
      "300.00_Buffer_Cooling\n"
     ]
    },
    {
     "name": "stderr",
     "output_type": "stream",
     "text": [
      "C:\\Users\\leogd\\UV_Vis_parameters_as_function.py:585: RuntimeWarning: invalid value encountered in power\n",
      "  return d + ((a-d)/((1+(x/c)**b)**g))\n",
      "C:\\Users\\leogd\\UV_Vis_parameters_as_function.py:585: RuntimeWarning: divide by zero encountered in true_divide\n",
      "  return d + ((a-d)/((1+(x/c)**b)**g))\n"
     ]
    },
    {
     "name": "stdout",
     "output_type": "stream",
     "text": [
      "300.00_Buffer_Heating\n",
      "300.00_FMRP_FL_I304N_High_R_Loops_Cooling\n"
     ]
    },
    {
     "name": "stderr",
     "output_type": "stream",
     "text": [
      "C:\\Users\\leogd\\UV_Vis_parameters_as_function.py:585: RuntimeWarning: invalid value encountered in power\n",
      "  return d + ((a-d)/((1+(x/c)**b)**g))\n"
     ]
    },
    {
     "name": "stdout",
     "output_type": "stream",
     "text": [
      "300.00_FMRP_FL_I304N_High_R_Loops_Heating\n",
      "300.00_FMRP_FL_I304N_Medium_R_Loops_Cooling\n",
      "300.00_FMRP_FL_I304N_Medium_R_Loops_Heating\n",
      "300.00_FMRP_FL_I304N_Low_R_Loops_Cooling\n",
      "300.00_FMRP_FL_I304N_Low_R_Loops_Heating\n",
      "300.00_R_Loops_High_Cooling\n",
      "300.00_R_Loops_High_Heating\n"
     ]
    },
    {
     "name": "stderr",
     "output_type": "stream",
     "text": [
      "C:\\Users\\leogd\\UV_Vis_parameters_as_function.py:585: RuntimeWarning: overflow encountered in power\n",
      "  return d + ((a-d)/((1+(x/c)**b)**g))\n",
      "C:\\Users\\leogd\\UV_Vis_parameters_as_function.py:585: RuntimeWarning: invalid value encountered in power\n",
      "  return d + ((a-d)/((1+(x/c)**b)**g))\n"
     ]
    },
    {
     "name": "stdout",
     "output_type": "stream",
     "text": [
      "300.00_FMRP_FL_I304N_Cooling\n"
     ]
    },
    {
     "name": "stderr",
     "output_type": "stream",
     "text": [
      "C:\\Users\\leogd\\UV_Vis_parameters_as_function.py:585: RuntimeWarning: overflow encountered in power\n",
      "  return d + ((a-d)/((1+(x/c)**b)**g))\n",
      "C:\\Users\\leogd\\UV_Vis_parameters_as_function.py:585: RuntimeWarning: invalid value encountered in power\n",
      "  return d + ((a-d)/((1+(x/c)**b)**g))\n"
     ]
    },
    {
     "name": "stdout",
     "output_type": "stream",
     "text": [
      "300.00_FMRP_FL_I304N_Heating\n",
      "320.00_Buffer_Cooling\n"
     ]
    },
    {
     "name": "stderr",
     "output_type": "stream",
     "text": [
      "C:\\Users\\leogd\\UV_Vis_parameters_as_function.py:585: RuntimeWarning: divide by zero encountered in true_divide\n",
      "  return d + ((a-d)/((1+(x/c)**b)**g))\n",
      "C:\\Users\\leogd\\UV_Vis_parameters_as_function.py:585: RuntimeWarning: invalid value encountered in power\n",
      "  return d + ((a-d)/((1+(x/c)**b)**g))\n"
     ]
    },
    {
     "name": "stdout",
     "output_type": "stream",
     "text": [
      "320.00_Buffer_Heating\n"
     ]
    },
    {
     "name": "stderr",
     "output_type": "stream",
     "text": [
      "C:\\Users\\leogd\\UV_Vis_parameters_as_function.py:585: RuntimeWarning: overflow encountered in power\n",
      "  return d + ((a-d)/((1+(x/c)**b)**g))\n",
      "C:\\Users\\leogd\\UV_Vis_parameters_as_function.py:585: RuntimeWarning: invalid value encountered in power\n",
      "  return d + ((a-d)/((1+(x/c)**b)**g))\n"
     ]
    },
    {
     "name": "stdout",
     "output_type": "stream",
     "text": [
      "320.00_FMRP_FL_I304N_High_R_Loops_Cooling\n",
      "320.00_FMRP_FL_I304N_High_R_Loops_Heating\n"
     ]
    },
    {
     "name": "stderr",
     "output_type": "stream",
     "text": [
      "C:\\Users\\leogd\\UV_Vis_parameters_as_function.py:585: RuntimeWarning: invalid value encountered in power\n",
      "  return d + ((a-d)/((1+(x/c)**b)**g))\n"
     ]
    },
    {
     "name": "stdout",
     "output_type": "stream",
     "text": [
      "320.00_FMRP_FL_I304N_Medium_R_Loops_Cooling\n",
      "320.00_FMRP_FL_I304N_Medium_R_Loops_Heating\n",
      "320.00_FMRP_FL_I304N_Low_R_Loops_Cooling\n",
      "320.00_FMRP_FL_I304N_Low_R_Loops_Heating\n",
      "320.00_R_Loops_High_Cooling\n",
      "320.00_R_Loops_High_Heating\n"
     ]
    },
    {
     "name": "stderr",
     "output_type": "stream",
     "text": [
      "C:\\Users\\leogd\\UV_Vis_parameters_as_function.py:585: RuntimeWarning: invalid value encountered in power\n",
      "  return d + ((a-d)/((1+(x/c)**b)**g))\n",
      "C:\\Users\\leogd\\UV_Vis_parameters_as_function.py:585: RuntimeWarning: overflow encountered in power\n",
      "  return d + ((a-d)/((1+(x/c)**b)**g))\n"
     ]
    },
    {
     "name": "stdout",
     "output_type": "stream",
     "text": [
      "320.00_FMRP_FL_I304N_Cooling\n",
      "320.00_FMRP_FL_I304N_Heating\n",
      "340.00_Buffer_Cooling\n",
      "340.00_Buffer_Heating\n"
     ]
    },
    {
     "name": "stderr",
     "output_type": "stream",
     "text": [
      "C:\\Users\\leogd\\UV_Vis_parameters_as_function.py:585: RuntimeWarning: divide by zero encountered in true_divide\n",
      "  return d + ((a-d)/((1+(x/c)**b)**g))\n",
      "C:\\Users\\leogd\\UV_Vis_parameters_as_function.py:585: RuntimeWarning: invalid value encountered in power\n",
      "  return d + ((a-d)/((1+(x/c)**b)**g))\n"
     ]
    },
    {
     "name": "stdout",
     "output_type": "stream",
     "text": [
      "340.00_FMRP_FL_I304N_High_R_Loops_Cooling\n",
      "340.00_FMRP_FL_I304N_High_R_Loops_Heating\n"
     ]
    },
    {
     "name": "stderr",
     "output_type": "stream",
     "text": [
      "C:\\Users\\leogd\\UV_Vis_parameters_as_function.py:585: RuntimeWarning: invalid value encountered in power\n",
      "  return d + ((a-d)/((1+(x/c)**b)**g))\n"
     ]
    },
    {
     "name": "stdout",
     "output_type": "stream",
     "text": [
      "340.00_FMRP_FL_I304N_Medium_R_Loops_Cooling\n",
      "340.00_FMRP_FL_I304N_Medium_R_Loops_Heating\n",
      "340.00_FMRP_FL_I304N_Low_R_Loops_Cooling\n",
      "340.00_FMRP_FL_I304N_Low_R_Loops_Heating\n",
      "340.00_R_Loops_High_Cooling\n",
      "340.00_R_Loops_High_Heating\n"
     ]
    },
    {
     "name": "stderr",
     "output_type": "stream",
     "text": [
      "C:\\Users\\leogd\\UV_Vis_parameters_as_function.py:585: RuntimeWarning: divide by zero encountered in true_divide\n",
      "  return d + ((a-d)/((1+(x/c)**b)**g))\n",
      "C:\\Users\\leogd\\UV_Vis_parameters_as_function.py:585: RuntimeWarning: invalid value encountered in power\n",
      "  return d + ((a-d)/((1+(x/c)**b)**g))\n",
      "C:\\Users\\leogd\\UV_Vis_parameters_as_function.py:585: RuntimeWarning: overflow encountered in true_divide\n",
      "  return d + ((a-d)/((1+(x/c)**b)**g))\n",
      "C:\\Users\\leogd\\UV_Vis_parameters_as_function.py:585: RuntimeWarning: overflow encountered in power\n",
      "  return d + ((a-d)/((1+(x/c)**b)**g))\n"
     ]
    },
    {
     "name": "stdout",
     "output_type": "stream",
     "text": [
      "340.00_FMRP_FL_I304N_Cooling\n",
      "340.00_FMRP_FL_I304N_Heating\n",
      "400.00_Buffer_Cooling\n",
      "400.00_Buffer_Heating\n",
      "400.00_FMRP_FL_I304N_High_R_Loops_Cooling\n",
      "400.00_FMRP_FL_I304N_High_R_Loops_Heating\n"
     ]
    },
    {
     "name": "stderr",
     "output_type": "stream",
     "text": [
      "C:\\Users\\leogd\\UV_Vis_parameters_as_function.py:585: RuntimeWarning: invalid value encountered in power\n",
      "  return d + ((a-d)/((1+(x/c)**b)**g))\n"
     ]
    },
    {
     "name": "stdout",
     "output_type": "stream",
     "text": [
      "400.00_FMRP_FL_I304N_Medium_R_Loops_Cooling\n"
     ]
    },
    {
     "name": "stderr",
     "output_type": "stream",
     "text": [
      "C:\\Users\\leogd\\UV_Vis_parameters_as_function.py:585: RuntimeWarning: overflow encountered in power\n",
      "  return d + ((a-d)/((1+(x/c)**b)**g))\n",
      "C:\\Users\\leogd\\Anaconda3\\lib\\site-packages\\scipy\\optimize\\minpack.py:828: OptimizeWarning: Covariance of the parameters could not be estimated\n",
      "  warnings.warn('Covariance of the parameters could not be estimated',\n"
     ]
    },
    {
     "name": "stdout",
     "output_type": "stream",
     "text": [
      "400.00_FMRP_FL_I304N_Medium_R_Loops_Heating\n",
      "400.00_FMRP_FL_I304N_Low_R_Loops_Cooling\n",
      "400.00_FMRP_FL_I304N_Low_R_Loops_Heating\n",
      "400.00_R_Loops_High_Cooling\n",
      "400.00_R_Loops_High_Heating\n"
     ]
    },
    {
     "name": "stderr",
     "output_type": "stream",
     "text": [
      "C:\\Users\\leogd\\UV_Vis_parameters_as_function.py:585: RuntimeWarning: invalid value encountered in power\n",
      "  return d + ((a-d)/((1+(x/c)**b)**g))\n",
      "C:\\Users\\leogd\\UV_Vis_parameters_as_function.py:585: RuntimeWarning: divide by zero encountered in true_divide\n",
      "  return d + ((a-d)/((1+(x/c)**b)**g))\n",
      "C:\\Users\\leogd\\UV_Vis_parameters_as_function.py:585: RuntimeWarning: overflow encountered in power\n",
      "  return d + ((a-d)/((1+(x/c)**b)**g))\n"
     ]
    },
    {
     "name": "stdout",
     "output_type": "stream",
     "text": [
      "400.00_FMRP_FL_I304N_Cooling\n"
     ]
    },
    {
     "name": "stderr",
     "output_type": "stream",
     "text": [
      "C:\\Users\\leogd\\UV_Vis_parameters_as_function.py:585: RuntimeWarning: invalid value encountered in power\n",
      "  return d + ((a-d)/((1+(x/c)**b)**g))\n",
      "C:\\Users\\leogd\\UV_Vis_parameters_as_function.py:585: RuntimeWarning: overflow encountered in power\n",
      "  return d + ((a-d)/((1+(x/c)**b)**g))\n"
     ]
    },
    {
     "name": "stdout",
     "output_type": "stream",
     "text": [
      "400.00_FMRP_FL_I304N_Heating\n",
      "500.00_Buffer_Cooling\n",
      "500.00_Buffer_Heating\n",
      "500.00_FMRP_FL_I304N_High_R_Loops_Cooling\n",
      "500.00_FMRP_FL_I304N_High_R_Loops_Heating\n"
     ]
    },
    {
     "name": "stderr",
     "output_type": "stream",
     "text": [
      "C:\\Users\\leogd\\UV_Vis_parameters_as_function.py:585: RuntimeWarning: invalid value encountered in power\n",
      "  return d + ((a-d)/((1+(x/c)**b)**g))\n"
     ]
    },
    {
     "name": "stdout",
     "output_type": "stream",
     "text": [
      "500.00_FMRP_FL_I304N_Medium_R_Loops_Cooling\n"
     ]
    },
    {
     "name": "stderr",
     "output_type": "stream",
     "text": [
      "C:\\Users\\leogd\\UV_Vis_parameters_as_function.py:585: RuntimeWarning: invalid value encountered in power\n",
      "  return d + ((a-d)/((1+(x/c)**b)**g))\n"
     ]
    },
    {
     "name": "stdout",
     "output_type": "stream",
     "text": [
      "500.00_FMRP_FL_I304N_Medium_R_Loops_Heating\n",
      "500.00_FMRP_FL_I304N_Low_R_Loops_Cooling\n"
     ]
    },
    {
     "name": "stderr",
     "output_type": "stream",
     "text": [
      "C:\\Users\\leogd\\UV_Vis_parameters_as_function.py:585: RuntimeWarning: invalid value encountered in power\n",
      "  return d + ((a-d)/((1+(x/c)**b)**g))\n",
      "C:\\Users\\leogd\\UV_Vis_parameters_as_function.py:585: RuntimeWarning: overflow encountered in power\n",
      "  return d + ((a-d)/((1+(x/c)**b)**g))\n"
     ]
    },
    {
     "name": "stdout",
     "output_type": "stream",
     "text": [
      "500.00_FMRP_FL_I304N_Low_R_Loops_Heating\n",
      "500.00_R_Loops_High_Cooling\n",
      "500.00_R_Loops_High_Heating\n",
      "500.00_FMRP_FL_I304N_Cooling\n"
     ]
    },
    {
     "name": "stderr",
     "output_type": "stream",
     "text": [
      "C:\\Users\\leogd\\UV_Vis_parameters_as_function.py:585: RuntimeWarning: divide by zero encountered in true_divide\n",
      "  return d + ((a-d)/((1+(x/c)**b)**g))\n",
      "C:\\Users\\leogd\\UV_Vis_parameters_as_function.py:585: RuntimeWarning: overflow encountered in true_divide\n",
      "  return d + ((a-d)/((1+(x/c)**b)**g))\n",
      "C:\\Users\\leogd\\UV_Vis_parameters_as_function.py:585: RuntimeWarning: invalid value encountered in power\n",
      "  return d + ((a-d)/((1+(x/c)**b)**g))\n"
     ]
    },
    {
     "name": "stdout",
     "output_type": "stream",
     "text": [
      "500.00_FMRP_FL_I304N_Heating\n",
      "600.00_Buffer_Cooling\n",
      "600.00_Buffer_Heating\n",
      "600.00_FMRP_FL_I304N_High_R_Loops_Cooling\n",
      "600.00_FMRP_FL_I304N_High_R_Loops_Heating\n"
     ]
    },
    {
     "name": "stderr",
     "output_type": "stream",
     "text": [
      "C:\\Users\\leogd\\UV_Vis_parameters_as_function.py:585: RuntimeWarning: invalid value encountered in power\n",
      "  return d + ((a-d)/((1+(x/c)**b)**g))\n",
      "C:\\Users\\leogd\\UV_Vis_parameters_as_function.py:585: RuntimeWarning: divide by zero encountered in true_divide\n",
      "  return d + ((a-d)/((1+(x/c)**b)**g))\n",
      "C:\\Users\\leogd\\UV_Vis_parameters_as_function.py:585: RuntimeWarning: overflow encountered in power\n",
      "  return d + ((a-d)/((1+(x/c)**b)**g))\n"
     ]
    },
    {
     "name": "stdout",
     "output_type": "stream",
     "text": [
      "600.00_FMRP_FL_I304N_Medium_R_Loops_Cooling\n"
     ]
    },
    {
     "name": "stderr",
     "output_type": "stream",
     "text": [
      "C:\\Users\\leogd\\UV_Vis_parameters_as_function.py:585: RuntimeWarning: invalid value encountered in power\n",
      "  return d + ((a-d)/((1+(x/c)**b)**g))\n"
     ]
    },
    {
     "name": "stdout",
     "output_type": "stream",
     "text": [
      "600.00_FMRP_FL_I304N_Medium_R_Loops_Heating\n",
      "600.00_FMRP_FL_I304N_Low_R_Loops_Cooling\n"
     ]
    },
    {
     "name": "stderr",
     "output_type": "stream",
     "text": [
      "C:\\Users\\leogd\\UV_Vis_parameters_as_function.py:585: RuntimeWarning: overflow encountered in power\n",
      "  return d + ((a-d)/((1+(x/c)**b)**g))\n",
      "C:\\Users\\leogd\\UV_Vis_parameters_as_function.py:585: RuntimeWarning: invalid value encountered in power\n",
      "  return d + ((a-d)/((1+(x/c)**b)**g))\n"
     ]
    },
    {
     "name": "stdout",
     "output_type": "stream",
     "text": [
      "600.00_FMRP_FL_I304N_Low_R_Loops_Heating\n",
      "600.00_R_Loops_High_Cooling\n",
      "600.00_R_Loops_High_Heating\n",
      "600.00_FMRP_FL_I304N_Cooling\n"
     ]
    },
    {
     "name": "stderr",
     "output_type": "stream",
     "text": [
      "C:\\Users\\leogd\\UV_Vis_parameters_as_function.py:585: RuntimeWarning: invalid value encountered in power\n",
      "  return d + ((a-d)/((1+(x/c)**b)**g))\n",
      "C:\\Users\\leogd\\UV_Vis_parameters_as_function.py:585: RuntimeWarning: divide by zero encountered in true_divide\n",
      "  return d + ((a-d)/((1+(x/c)**b)**g))\n"
     ]
    },
    {
     "name": "stdout",
     "output_type": "stream",
     "text": [
      "600.00_FMRP_FL_I304N_Heating\n",
      "\n",
      "Parameters were successfully calculated! \n",
      "\n",
      "\n",
      "Done!\n",
      "\n",
      "\n",
      "# ===================================================== #\n",
      "\n",
      "\n",
      "Plotting Both plots for All samples...\n",
      "\n",
      "\n",
      "Done!\n",
      "\n",
      "\n",
      "# ===================================================== #\n",
      "\n",
      "\n",
      "Plotting Cooling plots for All samples...\n",
      "\n",
      "\n",
      "Done!\n",
      "\n",
      "\n",
      "# ===================================================== #\n",
      "\n",
      "\n",
      "Plotting Heating plots for All samples...\n",
      "\n",
      "\n",
      "Done!\n",
      "\n",
      "\n",
      "# ===================================================== #\n",
      "\n",
      "\n"
     ]
    }
   ],
   "source": [
    "#Select path to UV-Vis data .csv file\n",
    "#make sure you write .csv at the end of the file name\n",
    "file_path_UV_Vis = \"C:/Users/leogd/Desktop/UV-Vis/11292022_FMRP_FL_I304N_R_Loops/112922_FMRP_FL_I304N_R_LOOPS_1.csv\"\n",
    "\n",
    "\n",
    "#Select path to output folder\n",
    "output_folder = \"C:/Users/leogd/Desktop/UV-Vis/11292022_FMRP_FL_I304N_R_Loops/Results/\"\n",
    "\n",
    "#Choose between \"Heating\", \"Cooling\" or \"Both\"\n",
    "temperature_program = \"Both\"\n",
    "\n",
    "\n",
    "#Select the samples you wanna plot:\n",
    "\n",
    "#samples_to_plot = ['80uL_RBM3_C_IDR+20uL_TAE_Buffer', '80uL_RBM3_C_IDR+20uL_R_Loop_New', '80uL_RBM3_C_IDR+10uL_R_Loop_Old+10uL_5M_NaCl_Stock']\n",
    "\n",
    "#If you wanna plot all samples, use: samples_to_plot = \"All\"\n",
    "samples_to_plot = \"All\"\n",
    "\n",
    "# ================================================================= #\n",
    "\n",
    "from UV_Vis_Parse_Final import *\n",
    "from UV_Vis_parameters_as_function import *\n",
    "from UV_Vis_plot_temp_program import *\n",
    "\n",
    "# ================================================================= #\n",
    "\n",
    "experiment, file_name = Parse_UV_Vis(file_path_UV_Vis)\n",
    "#print(file_name)\n",
    "try:\n",
    "    find_parameters_cubic_spline(experiment, file_name, output_folder)\n",
    "except:\n",
    "    pass\n",
    "try:\n",
    "    find_parameters_4PL_regression(experiment, file_name, output_folder)\n",
    "except:\n",
    "    pass\n",
    "try:\n",
    "    find_parameters_5PL_regression(experiment, file_name, output_folder)\n",
    "except:\n",
    "    pass\n",
    "\n",
    "temperature_program = \"Both\"\n",
    "plot_temp_program(experiment, file_name, output_folder, temperature_program = str(temperature_program), samples = samples_to_plot)\n",
    "\n",
    "temperature_program = \"Cooling\"\n",
    "plot_temp_program(experiment, file_name, output_folder, temperature_program = str(temperature_program), samples = samples_to_plot)\n",
    "\n",
    "temperature_program = \"Heating\"\n",
    "plot_temp_program(experiment, file_name, output_folder, temperature_program = str(temperature_program), samples = samples_to_plot)\n",
    "\n",
    "\n",
    "#plot_temp_program(experiment, file_name, output_folder, temperature_program = str(temperature_program), samples = samples_to_plot)"
   ]
  },
  {
   "cell_type": "code",
   "execution_count": null,
   "metadata": {},
   "outputs": [],
   "source": [
    "#Batch Mode\n",
    "\n",
    "#Select path to folder containing UV-Vis data .csv files\n",
    "#make sure you write .csv at the end of the file name\n",
    "file_path_UV_Vis = \"C:/Users/leogd/Desktop/Jing_UV_Vis/\"\n",
    "\n",
    "\n",
    "#Select path to output folder\n",
    "output_folder = \"C:/Users/leogd/Desktop/Jing_UV_Vis/Results/\"\n",
    "\n",
    "#Choose between \"Heating\", \"Cooling\" or \"Both\"\n",
    "#temperature_program = \"Both\"\n",
    "\n",
    "\n",
    "#Select the samples you wanna plot:\n",
    "\n",
    "#samples_to_plot = ['80uL_RBM3_C_IDR+20uL_TAE_Buffer', '80uL_RBM3_C_IDR+20uL_R_Loop_New', '80uL_RBM3_C_IDR+10uL_R_Loop_Old+10uL_5M_NaCl_Stock']\n",
    "\n",
    "#If you wanna plot all samples, use: samples_to_plot = \"All\"\n",
    "samples_to_plot = \"All\"\n",
    "\n",
    "# ================================================================= #\n",
    "\n",
    "from UV_Vis_Parse_Final import *\n",
    "from UV_Vis_parameters_as_function import *\n",
    "from UV_Vis_plot_temp_program import *\n",
    "import os\n",
    "\n",
    "# ================================================================= #\n",
    "\n",
    "\n",
    "#Switches directory to the input location, which should contain the coded_lists from Coded_List_Generator    \n",
    "os.chdir(file_path_UV_Vis)\n",
    "\n",
    "#Formats input location if need be\n",
    "if file_path_UV_Vis.endswith(\"/\"):\n",
    "    pass\n",
    "else:\n",
    "    file_path_UV_Vis = file_path_UV_Vis +\"/\"\n",
    "\n",
    "#Compiles list of files within the input directory\n",
    "files = next(os.walk(file_path_UV_Vis))[2]\n",
    "\n",
    "for f in files:\n",
    "    this_name = file_path_UV_Vis + str(f)\n",
    "    \n",
    "    #Resets variables for next iteration\n",
    "    experiment = []\n",
    "    file_name = []\n",
    "    \n",
    "    \n",
    "    print(f)\n",
    "    experiment, file_name = Parse_UV_Vis(this_name)\n",
    "    find_parameters_cubic_spline(experiment, file_name, output_folder)\n",
    "    find_parameters_4PL_regression(experiment, file_name, output_folder)\n",
    "    find_parameters_5PL_regression(experiment, file_name, output_folder)\n",
    "    \n",
    "    temperature_program = \"Both\"\n",
    "    plot_temp_program(experiment, file_name, output_folder, temperature_program = str(temperature_program), samples = samples_to_plot)\n",
    "    \n",
    "    temperature_program = \"Cooling\"\n",
    "    plot_temp_program(experiment, file_name, output_folder, temperature_program = str(temperature_program), samples = samples_to_plot)\n",
    "    \n",
    "    temperature_program = \"Heating\"\n",
    "    plot_temp_program(experiment, file_name, output_folder, temperature_program = str(temperature_program), samples = samples_to_plot)"
   ]
  },
  {
   "cell_type": "code",
   "execution_count": null,
   "metadata": {},
   "outputs": [],
   "source": []
  }
 ],
 "metadata": {
  "kernelspec": {
   "display_name": "Python 3",
   "language": "python",
   "name": "python3"
  },
  "language_info": {
   "codemirror_mode": {
    "name": "ipython",
    "version": 3
   },
   "file_extension": ".py",
   "mimetype": "text/x-python",
   "name": "python",
   "nbconvert_exporter": "python",
   "pygments_lexer": "ipython3",
   "version": "3.8.5"
  }
 },
 "nbformat": 4,
 "nbformat_minor": 4
}
